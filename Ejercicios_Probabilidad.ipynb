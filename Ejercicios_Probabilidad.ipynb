{
  "nbformat": 4,
  "nbformat_minor": 0,
  "metadata": {
    "colab": {
      "name": "Copie de Ejercicios Probabilidad.ipynb",
      "provenance": [],
      "collapsed_sections": [],
      "include_colab_link": true
    },
    "kernelspec": {
      "name": "python3",
      "display_name": "Python 3"
    }
  },
  "cells": [
    {
      "cell_type": "markdown",
      "metadata": {
        "id": "view-in-github",
        "colab_type": "text"
      },
      "source": [
        "<a href=\"https://colab.research.google.com/github/valentina2095/MLCourse/blob/master/Ejercicios_Probabilidad.ipynb\" target=\"_parent\"><img src=\"https://colab.research.google.com/assets/colab-badge.svg\" alt=\"Open In Colab\"/></a>"
      ]
    },
    {
      "cell_type": "markdown",
      "metadata": {
        "id": "EIYB8nQyy3bT",
        "colab_type": "text"
      },
      "source": [
        "**1.** In an English deck of cards there are 4 pints (hearts, spades, diamonds and clubs) and 13 cards per pint. That is, in total there are 52 cards. Suppose you choose two random cards. What is the probability that one of them is black since the other is also black?\n",
        "1.\t1/2\n",
        "2.\t25/52\n",
        "3.\t25/51\n",
        "4.\t26/51\n",
        "5.\tNone of above\n"
      ]
    },
    {
      "cell_type": "markdown",
      "metadata": {
        "id": "M2ifNmmuL9FN",
        "colab_type": "text"
      },
      "source": [
        "P(A) = 26/52\n",
        "\n",
        "Since we're supposing we have chosen a black card, for the second round we'll have 25 back cards and 51 cards in total.\n",
        "\n",
        "P(B|A) = 25/51"
      ]
    },
    {
      "cell_type": "markdown",
      "metadata": {
        "id": "fITxt8LtzKan",
        "colab_type": "text"
      },
      "source": [
        "**2.** The probability that a Titi monkey likes to eat peanuts is 40%, and the probability of consuming it regularly is 20%. In addition, studies have shown that, among the Titi monkeys that eat peanuts, the probability of dying before 5 years is 5%. What is the probability that a Titi monkey eats peanuts regularly and dies before age 5?\n",
        "1.\t0.1\n",
        "2.\t0.04\n",
        "3.\t0.02\n",
        "4.\t0.01\n"
      ]
    },
    {
      "cell_type": "markdown",
      "metadata": {
        "id": "PErvp-stzVQh",
        "colab_type": "text"
      },
      "source": [
        "P(Likes) = 0.4\\\n",
        "P(Regularly) = 0.2\\\n",
        "P(Dying|Eats) = 0.05\\\n",
        "P(Dying|Regularly) = ?"
      ]
    },
    {
      "cell_type": "markdown",
      "metadata": {
        "id": "0tNirTa2zVtK",
        "colab_type": "text"
      },
      "source": [
        "**3.** If you throw a 6-sided side 3 times. X1, X2 and X3 denote the value of the first, second and third throw.\n",
        "What is P (X1 + X2 + X3 <= 5)\n",
        "1.\t10/36\n",
        "2.\t5/36\n",
        "3.\t10/216\n",
        "4.\t5/216\n"
      ]
    },
    {
      "cell_type": "markdown",
      "metadata": {
        "id": "QsFaeWAbz9Ye",
        "colab_type": "text"
      },
      "source": [
        "$$\n",
        "\\hspace{1em} \\textbf{1} \\hspace{1.2em} \\textbf{2} \\hspace{1.2em} \\textbf{3} \\hspace{1.2em} \\textbf{4} \\hspace{1.2em} \\textbf{5} \\hspace{1.2em} \\textbf{6}\\\\\n",
        "\\begin{matrix}\\textbf{1}\\\\\\textbf{2}\\\\\\textbf{3}\\\\\\textbf{4}\\\\\\textbf{5}\\\\\\textbf{6}\\end{matrix}\n",
        "\\left(\\begin{matrix}2&3&4&5&6&7\\\\3&4&5&6&7&8\\\\4&5&6&7&8&9\\\\5&6&7&8&9&10\\\\6&7&8&9&10&11\\\\7&8&9&10&11&12\\end{matrix}\\right) $$\n",
        "\n",
        "If we had two throws, these would be the possible outcomes, 36 in total but only 10 of them <= 5.\\\n",
        "In this case $P(X1 + X2 \\leq 5) = \\frac{10}{36}$\n",
        "\n",
        "Now, doing the same process with three trows we have $P(X1 + X2 + X3\\leq 5) = \\frac{10}{216}$"
      ]
    },
    {
      "cell_type": "markdown",
      "metadata": {
        "id": "cAmJqNA1z9so",
        "colab_type": "text"
      },
      "source": [
        "**4.** In an English deck of cards there are 4 pints (hearts, spades, diamonds and tremolo) and 13 cards per pints. That is, in total there are 52 cards. Suppose you choose two random cards. What is the probability that one of them is black since the other is red?\n",
        "1.\t1/2\n",
        "2.\t25/52\n",
        "3.\t1/4\n",
        "4.\t26/51\n"
      ]
    },
    {
      "cell_type": "markdown",
      "metadata": {
        "id": "o24ghvSg0J-B",
        "colab_type": "text"
      },
      "source": [
        "P(B|A) = 26/51"
      ]
    },
    {
      "cell_type": "markdown",
      "metadata": {
        "id": "RtTbuiQv0KOZ",
        "colab_type": "text"
      },
      "source": [
        "**5.** Cosider a fair coin and fair die. The possible outcome toss is \"head\" or \"tail\", while the possible outcome for the die throw is 1,2,3,4,5 or 6. You toss the coin 4 times and throw the die 2 times.\n",
        "The number of possible outcomes for this experiment is________"
      ]
    },
    {
      "cell_type": "markdown",
      "metadata": {
        "id": "xls3j4xi0LbB",
        "colab_type": "text"
      },
      "source": [
        "The possible outcomes for this experiment depend on the different combinations we can make with coin 1, coin 2, coin 3, coin 4, die 1 and die 2.\n",
        "\n",
        "For each coin toss there are two possibilities, so $2^4$.\\\n",
        "For each die trow there are six possibilities, so $6^2$.\n",
        "Combining both elements (computing the product) we get that the total number of possible outcomes is 576."
      ]
    },
    {
      "cell_type": "markdown",
      "metadata": {
        "id": "c0h2tCEs0__3",
        "colab_type": "text"
      },
      "source": [
        "**6.** A dart is thrown at circular dashboard such that it will land randomly over the area of the dashboard. What is the probability that it lands closer to the center than to the edge? Assume the dart always reaches the dashboard.\n",
        "1.\t25%\n",
        "2.\t50%\n",
        "3.\t10%\n",
        "4.\t33%"
      ]
    },
    {
      "cell_type": "markdown",
      "metadata": {
        "id": "eYFiTSTl1ATV",
        "colab_type": "text"
      },
      "source": [
        "The area of a circle (circular dashboard) is $\\pi \\times r^2$, let's suppose to simplify the calculus that the radius is $r=2$, from 0 to 1 is the area closer to the center than to the edge, and from 1 to 2 is the area closer to the edge.\n",
        "Computing the areas of each of the areas, we get:\n",
        "* Total circle: $\\pi \\times 2^2 = 4\\pi$\n",
        "* Inner circle (closer to the center): $\\pi \\times 1^2 = \\pi$\n",
        "\n",
        "The probability is equal to $\\frac{\\pi}{4\\pi}= 25\\%$"
      ]
    }
  ]
}