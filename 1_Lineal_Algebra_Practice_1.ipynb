{
  "nbformat": 4,
  "nbformat_minor": 0,
  "metadata": {
    "colab": {
      "name": "Copie de 2.1. Lineal Algebra Practice 1.ipynb",
      "provenance": [],
      "include_colab_link": true
    },
    "kernelspec": {
      "name": "python3",
      "display_name": "Python 3"
    }
  },
  "cells": [
    {
      "cell_type": "markdown",
      "metadata": {
        "id": "view-in-github",
        "colab_type": "text"
      },
      "source": [
        "<a href=\"https://colab.research.google.com/github/valentina2095/MLCourse/blob/master/1_Lineal_Algebra_Practice_1.ipynb\" target=\"_parent\"><img src=\"https://colab.research.google.com/assets/colab-badge.svg\" alt=\"Open In Colab\"/></a>"
      ]
    },
    {
      "cell_type": "markdown",
      "metadata": {
        "id": "i2NEFcja852e",
        "colab_type": "text"
      },
      "source": [
        "# Question 1.\n",
        "\n",
        "* Print the sum of matrixes A and B\n",
        "\n",
        "$$ A =\n",
        "\\left(\\begin{array}{cc} \n",
        "1 & 2\\\\\n",
        "3 & 4\\\\\n",
        "5 & 6\n",
        "\\end{array}\\right) + B =\n",
        "\\left(\\begin{array}{cc} \n",
        "6 & 5\\\\\n",
        "4 & 3\\\\\n",
        "2 & 1 \n",
        "\\end{array}\\right)\n",
        "$$ "
      ]
    },
    {
      "cell_type": "code",
      "metadata": {
        "id": "jDuBCQ2LQa6L",
        "colab_type": "code",
        "colab": {}
      },
      "source": [
        "# Answer 1.\n",
        "'Your code here'\n",
        "\n",
        "\n"
      ],
      "execution_count": 0,
      "outputs": []
    },
    {
      "cell_type": "markdown",
      "metadata": {
        "id": "f_ysniFVMQ1F",
        "colab_type": "text"
      },
      "source": [
        "# Question 2\n",
        "\n",
        "* Print the sum of matrix + scalar.\n",
        "\n",
        "$$ M =\n",
        "\\left(\\begin{array}{cc} \n",
        "6 & 3\\\\\n",
        "9 & 5\\\\\n",
        "4 & 8\n",
        "\\end{array}\\right) + N =\n",
        "\\left(\\begin{array}{cc} \n",
        "2.5 \\\\ \n",
        "\\end{array}\\right)\n",
        "$$ "
      ]
    },
    {
      "cell_type": "code",
      "metadata": {
        "id": "2_-3UKlcmlwz",
        "colab_type": "code",
        "colab": {}
      },
      "source": [
        "# Answer 2.\n",
        "'Your code here'"
      ],
      "execution_count": 0,
      "outputs": []
    },
    {
      "cell_type": "markdown",
      "metadata": {
        "id": "tX6URHxjJgzm",
        "colab_type": "text"
      },
      "source": [
        "# Question 3.\n",
        "\n",
        "* Print the transposed matrix of  $J$  -->  $J^t$. \n",
        "\n",
        "$$ J =\n",
        "\\left(\\begin{array}{cc} \n",
        "9 & 2 & 3\\\\\n",
        "3 & 7 & 4 \\\\\n",
        "5 & 6 & 9\n",
        "\\end{array}\\right) \n",
        "$$ "
      ]
    },
    {
      "cell_type": "code",
      "metadata": {
        "id": "Y3fS1dHzSmic",
        "colab_type": "code",
        "colab": {}
      },
      "source": [
        "# Answer 3.\n",
        "'Your code here'"
      ],
      "execution_count": 0,
      "outputs": []
    },
    {
      "cell_type": "markdown",
      "metadata": {
        "id": "sx1edpUHLNgH",
        "colab_type": "text"
      },
      "source": [
        "# Question 4.\n",
        "\n",
        "* For the $ J ^ t $ matrix, calculate your transpose to obtain the original matrix J. \n",
        "\n",
        "$$ J =\n",
        "\\left(\\begin{array}{cc} \n",
        "9 & 2 & 3\\\\\n",
        "3 & 7 & 4 \\\\\n",
        "5 & 6 & 9\n",
        "\\end{array}\\right) \n",
        "$$ "
      ]
    },
    {
      "cell_type": "code",
      "metadata": {
        "id": "ku0zlNNO80hf",
        "colab_type": "code",
        "colab": {}
      },
      "source": [
        "# Answer 4.\n",
        "'Your code here'\n",
        "\n",
        "\n"
      ],
      "execution_count": 0,
      "outputs": []
    },
    {
      "cell_type": "markdown",
      "metadata": {
        "id": "qQ5b5m6HKp_u",
        "colab_type": "text"
      },
      "source": [
        "# Question 5.\n",
        "\n",
        "* \n",
        "What are the missing values? \n",
        "\n",
        "$$\n",
        "\\left(\\begin{array}{cc} \n",
        "? & 2\\\\\n",
        "0 & 2\n",
        "\\end{array}\\right)\n",
        "\\left(\\begin{array}{cc} \n",
        "1 & 0 \\\\ \n",
        "1 & ? \n",
        "\\end{array}\\right)\n",
        "$$ \n",
        "\n",
        " * so that the answer is like this:\n",
        "$\n",
        "\\left(\n",
        " \\begin {array}{ll} \n",
        "1 & 0 \\\\\n",
        "0   & 0\n",
        "\\end{array}\n",
        "\\right)\n",
        "$\n",
        "\n",
        "- [ A ] = 1 y 1\n",
        "- [ B ] = 0 y 1\n",
        "- [ C ] = 1 y 0\n",
        "- [ D ] = 0 y 0\n",
        "\n",
        "*  Print the result and the answer."
      ]
    },
    {
      "cell_type": "code",
      "metadata": {
        "id": "mB1C6fZiK5Ws",
        "colab_type": "code",
        "outputId": "b2a6fbca-7f30-43ee-a220-71e81f7df5de",
        "colab": {
          "base_uri": "https://localhost:8080/",
          "height": 34
        }
      },
      "source": [
        "# Answer 5.\n",
        "'your code here'"
      ],
      "execution_count": 0,
      "outputs": [
        {
          "output_type": "execute_result",
          "data": {
            "text/plain": [
              "'your code here'"
            ]
          },
          "metadata": {
            "tags": []
          },
          "execution_count": 1
        }
      ]
    },
    {
      "cell_type": "markdown",
      "metadata": {
        "id": "XRllz0RrGW-m",
        "colab_type": "text"
      },
      "source": [
        "# Question 6.\n",
        "* ¿ What is the dot product matrixes  $L$ y $K$ = : ?\n",
        "\n",
        "$$ L =\n",
        "\\left(\\begin{array}{cc} \n",
        "3 & 5 \\\\\n",
        "7 & 1 \\\\\n",
        "\\end{array}\\right) K =\n",
        "\\left(\\begin{array}{cc} \n",
        "3 & 12  \\\\\n",
        "6 & 4  \\\\\n",
        "\\end{array}\\right)\n",
        "$$ "
      ]
    },
    {
      "cell_type": "code",
      "metadata": {
        "id": "NZ7tLNk2vW73",
        "colab_type": "code",
        "colab": {}
      },
      "source": [
        "# Answer 6.\n",
        "'your code here'"
      ],
      "execution_count": 0,
      "outputs": []
    },
    {
      "cell_type": "markdown",
      "metadata": {
        "id": "qyuXefxfXs8h",
        "colab_type": "text"
      },
      "source": [
        "# Question 7.\n",
        "\n",
        "* ¿ What is the determinant of the following matrix  ? (Print the answer)\n",
        "\n",
        "$\n",
        "\\left(\n",
        "\\begin {array}{ll} \n",
        "1 & 2 & 0 \\\\\n",
        "1 & 2 & 0 \\\\\n",
        "0 & 1 & 1 \\\\\n",
        "\\end{array}\n",
        "\\right)\n",
        "$\n",
        "\n",
        "- [ A ] = 1 \n",
        "- [ B ] = 0 \n",
        "- [ C ] = 5\n",
        "- [ D ] = -5\n",
        "\n"
      ]
    },
    {
      "cell_type": "code",
      "metadata": {
        "id": "_Za_87JV0Fxa",
        "colab_type": "code",
        "colab": {}
      },
      "source": [
        "# Answer 7.\n",
        "'your code here'"
      ],
      "execution_count": 0,
      "outputs": []
    },
    {
      "cell_type": "markdown",
      "metadata": {
        "id": "YsULSkG8wME_",
        "colab_type": "text"
      },
      "source": [
        "# Question 8.\n",
        "\n",
        "* ¿ What is the determinant of the following matrix ? (Print the answer)\n",
        "\n",
        "$\n",
        "\\left(\n",
        "\\begin {array}{ll} \n",
        "0 & 1 & 1 \\\\\n",
        "1 & 0 & 0 \\\\\n",
        "0 & 0 & 1 \\\\\n",
        "\\end{array}\n",
        "\\right)\n",
        "$\n",
        "\n",
        "- [ A ] = 0 \n",
        "- [ B ] = -1 \n",
        "- [ C ] = 3\n",
        "- [ D ] = 1\n"
      ]
    },
    {
      "cell_type": "code",
      "metadata": {
        "id": "WQhgsnY4v_hQ",
        "colab_type": "code",
        "colab": {}
      },
      "source": [
        "# Answer 8.\n",
        "'your code here'"
      ],
      "execution_count": 0,
      "outputs": []
    },
    {
      "cell_type": "markdown",
      "metadata": {
        "id": "0Z1mnDXzLJg_",
        "colab_type": "text"
      },
      "source": [
        "# Question 9\n",
        "\n",
        "* ¿What is the missing value?\n",
        "$$ \n",
        "\\left(\\begin{array}{cc} \n",
        "1 & 2 & 3\\\\\n",
        "4 & 5 & 6\\\\\n",
        "7 & 8 & 9\n",
        "\\end{array}\\right) \n",
        "\\left(\\begin{array}{cc} \n",
        "0 \\\\ \n",
        "? \\\\\n",
        "16 \\\\\n",
        "\\end{array}\\right) =\n",
        "\\left(\\begin{array}{cc} \n",
        "4 \\\\ \n",
        "10 \\\\\n",
        "16 \\\\\n",
        "\\end{array}\\right)\n",
        "$$ "
      ]
    },
    {
      "cell_type": "code",
      "metadata": {
        "id": "n7Wx1hRwLHyX",
        "colab_type": "code",
        "colab": {}
      },
      "source": [
        ""
      ],
      "execution_count": 0,
      "outputs": []
    }
  ]
}